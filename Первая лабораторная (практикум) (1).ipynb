{
 "cells": [
  {
   "cell_type": "code",
   "execution_count": 1,
   "id": "1ec5e664",
   "metadata": {},
   "outputs": [
    {
     "data": {
      "text/plain": [
       "((130, 108, 213), '#826cd5')"
      ]
     },
     "execution_count": 1,
     "metadata": {},
     "output_type": "execute_result"
    }
   ],
   "source": [
    "from tkinter import Tk, colorchooser\n",
    "window = Tk()\n",
    "colorchooser.askcolor()"
   ]
  },
  {
   "cell_type": "code",
   "execution_count": null,
   "id": "3c3a716b",
   "metadata": {},
   "outputs": [],
   "source": [
    "from random import *\n",
    "from tkinter import *\n",
    "size=600\n",
    "root=Tk()\n",
    "canvas= Canvas(root, width=size, height=size)\n",
    "canvas.pack()\n",
    "diapason=0\n",
    "while diapason<1000:\n",
    "    colors=choice(['black', 'pink', 'red', 'blue'])\n",
    "    x0=randint(0, size)\n",
    "    y0=randint(0, size)\n",
    "    d=randint(0, size/5)\n",
    "    canvas.create_oval(x0,y0,d+x0, d+y0, fill=colors)\n",
    "    root.update()\n",
    "    diapason+=1"
   ]
  },
  {
   "cell_type": "code",
   "execution_count": null,
   "id": "02aa7b32",
   "metadata": {},
   "outputs": [],
   "source": [
    "from random import *\n",
    "from tkinter import *\n",
    "size=600\n",
    "root=Tk()\n",
    "canvas= Canvas(root, width=size, height=size)\n",
    "canvas.pack()\n",
    "diapason=0\n",
    "while True:\n",
    "    colors=choice(['black', 'pink', 'red', 'blue'])\n",
    "    x0=randint(0, size)\n",
    "    y0=randint(0, size)\n",
    "    d=randint(0, size/5)\n",
    "    canvas.create_oval(x0,y0,d+x0, d+y0, fill=colors)\n",
    "    root.update()"
   ]
  },
  {
   "cell_type": "code",
   "execution_count": 4,
   "id": "59f86b6b",
   "metadata": {},
   "outputs": [],
   "source": [
    "#ВРЕМЯ\n",
    "from tkinter import *\n",
    "import time\n",
    "def button_clicked():\n",
    "    # изменяем текст кнопки\n",
    "    button['text'] = time.strftime('%H:%M:%S')\n",
    "root=Tk()\n",
    "# создаём виджет\n",
    "button = Button(root)\n",
    "# конфигурируем виджет после создания\n",
    "button.configure(text=time.strftime('%H:%M:%S'), command=button_clicked)\n",
    "# также можно использовать квадратные скобки:\n",
    "# button['text'] = time.strftime('%H:%M:%S')\n",
    "# button['command'] = button_clicked\n",
    "button.pack()\n",
    "root.mainloop()"
   ]
  },
  {
   "cell_type": "code",
   "execution_count": 11,
   "id": "7d5f3021",
   "metadata": {},
   "outputs": [],
   "source": [
    "#ЦВЕТА КНОПОК\n",
    "from tkinter import *\n",
    "from random import random\n",
    "def button_clicked():\n",
    "    button['text'] = button['bg'] # показываем предыдущий цвет кнопки\n",
    "    bg = '#%0x%0x%0x' % (int(random()*16), int(random()*16), int(random()*16))\n",
    "    button['bg'] = bg\n",
    "    button['activebackground'] = bg\n",
    "root=Tk()\n",
    "button = Button(root, command=button_clicked)\n",
    "button.pack()\n",
    "root.mainloop()"
   ]
  },
  {
   "cell_type": "markdown",
   "id": "56396ca4",
   "metadata": {},
   "source": [
    "Напишите программу, которая отображает квадратное окно размером 600 на 600, полностью заполненное областью для рисования. По центру области должна отображаться окружность радиусом 200. Вдоль этой окружности по часовой стрелке должна двигаться точка. \n",
    "Попробуйте изменить скорость и направление движения точки. Сделайте переменную, которая задает скорость и направление движения. \n"
   ]
  },
  {
   "cell_type": "code",
   "execution_count": 13,
   "id": "c950de7e",
   "metadata": {},
   "outputs": [],
   "source": [
    "from tkinter import *\n",
    "import math\n",
    "size=600\n",
    "root=Tk() #окно\n",
    "canvas= Canvas(root, width=size, height=size) #холст \n",
    "canvas.pack()\n",
    "speed=5\n",
    "direct=1 # 1- по часовой / -1 - против\n",
    "angle=0\n",
    "def move():\n",
    "    global angle \n",
    "    canvas.delete('all') #удаление всего\n",
    "    canvas.create_oval(300-200, 300-200, 300+200, 300+200, outline=\"red\", fill=\"white\", width=2) #круг в точке (300;300) с рад 200\n",
    "    canvas.create_oval(300+200*math.cos(math.radians(angle))-5, 300+200*math.sin(math.radians(angle))-5,\n",
    "                      300+200*math.cos(math.radians(angle))+5, 300+200*math.sin(math.radians(angle))+5, fill='red')\n",
    "    #Формула для расчета координат точки на окружности выглядит следующим образом:\n",
    "    #x = center_x + radius * cos(angle)\n",
    "    #y = center_y + radius * sin(angle)\n",
    "    # +5 и -5 для создания точки диаметром 10\n",
    "    angle+=speed*direct #обновление угла на основе скорости и направления\n",
    "    root.after(16, move) #вызов функции move повторно через 16 милисекунд для анимации движения точки\n",
    "move()\n",
    "root.mainloop()"
   ]
  },
  {
   "cell_type": "code",
   "execution_count": null,
   "id": "8f9e8e9c",
   "metadata": {},
   "outputs": [],
   "source": [
    "from tk"
   ]
  }
 ],
 "metadata": {
  "kernelspec": {
   "display_name": "Python 3 (ipykernel)",
   "language": "python",
   "name": "python3"
  },
  "language_info": {
   "codemirror_mode": {
    "name": "ipython",
    "version": 3
   },
   "file_extension": ".py",
   "mimetype": "text/x-python",
   "name": "python",
   "nbconvert_exporter": "python",
   "pygments_lexer": "ipython3",
   "version": "3.11.5"
  }
 },
 "nbformat": 4,
 "nbformat_minor": 5
}
